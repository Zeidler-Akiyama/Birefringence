{
 "cells": [
  {
   "cell_type": "markdown",
   "id": "f9819d30",
   "metadata": {},
   "source": [
    "# How to Perform a Birefringence Simulation\n",
    "\n",
    "Consider a ray with wavevector $\\mathbf{k}$ incident to an intercept between two media with diectric tensors $\\varepsilon_1$ and $\\varepsilon$. The point where the incoming ray reaches the intercept is the origin of the global reference frame. By default, all parameters defining incoming ray, intercept, and medium are given in their local form and independent from each other. To transform these parameters to their global form, a rotation needs to be applied. In the given Python script, the rotation is performed with a tensor which is a function of two specific angles:\n",
    "* $\\alpha_0$ - the angle between the global $z$-axis and the local $z$-axis in global $x$-$z$-plane\n",
    "* $\\alpha_1$ - the angle between the local $z$-axis and the global $x$-$z$-plane\n",
    "\n",
    "The reason to define the rotation-angles in this way is founded in the default traveling direction of the incoming ray, which is along local $z$.\n",
    "The tensor governing the rotation thus writes as\n",
    "\n",
    "$$\n",
    "\\text{RotM}(\\alpha_0, \\alpha_1) = \n",
    "\\begin{pmatrix}\n",
    "\\cos(\\alpha_0) & -\\sin(\\alpha_0)\\cdot\\sin(\\alpha_1) & \\sin(\\alpha_0)\\cdot\\cos(\\alpha_1)\\\\\n",
    "0 & \\cos(\\alpha_1) & \\sin(\\alpha_1)\\\\\n",
    "-\\sin(\\alpha_0) & -\\cos(\\alpha_0)\\cdot\\sin(\\alpha_1) & \\cos(\\alpha_1)\\cdot\\cos(\\alpha_0)\n",
    "\\end{pmatrix}.\n",
    "$$\n",
    "\n",
    "This kind of rotation is applied to the incoming wavevector, the dielectric tensors of surrounding medium and birefringent medium, and the surface-normal of the intercept, leading to in total 8 rotation angles which need to be defined in advance:\n",
    "* $\\alpha$, $\\beta$ - the rotation angles for the $\\mathbf{k}$ vector\n",
    "* $\\gamma_1$, $\\delta_1$ - the rotation angles for $\\varepsilon_1$\n",
    "* $\\delta_2$, $\\delta_2$ - the rotation angles for $\\varepsilon$\n",
    "* $\\epsilon$, $\\zeta$ - the rotation angles for the surface-normal of the intercept $\\mathbf{N}$.\n",
    "\n",
    "Obviously, the rotation for $\\varepsilon$ is not independent from the orientation of $\\mathbf{N}$. Therefore, the resulting rotation tensors are defined as follows:\n",
    "* $\\text{RotMk} = \\text{RotM}(\\alpha, \\beta)$ - rotation matrix of $\\mathbf{k}$\n",
    "* $\\text{RotMN1} = \\text{RotM}(\\gamma_1, \\delta_1)$ - rotation matrix of $\\varepsilon_1$\n",
    "* $\\text{RotMN2} = \\text{RotM}(\\gamma_2 - \\epsilon, \\delta_2 - \\zeta)$ - rotation matrix of $\\varepsilon$\n",
    "* $\\text{RotMk} = \\text{RotM}(\\epsilon, \\zeta)$ - rotation matrix of $\\mathbf{N}$.\n",
    "\n",
    "Since this script has been written originally with the application to uniaxial crystals in mind, the considerations until now do not include a rotation of the dieltric tensors around local $z$. Therefore, another rotation tensor is needed for which we use an Euler-transformation by applying the scipy.spatial.transform.Rotation module (denominated as RotMNz).\n",
    "Thus, the global tensors $\\varepsilon_1^\\text{gl}$ and $\\varepsilon^\\text{gl}$ can be determined with\n",
    "\n",
    "$$\n",
    "\\varepsilon_1^\\text{gl} = \\text{RotMNz}\\cdot\\biggl(\\text{RotMN1}\\cdot\\varepsilon_1\\cdot\\text{RotMN1}^\\text{T}\\biggr)\\cdot\\text{RotMNz}^\\text{T}\n",
    "$$\n",
    "and\n",
    "$$\n",
    "\\varepsilon^\\text{gl} = \\text{RotMNz}\\cdot\\biggl(\\text{RotMN2}\\cdot\\varepsilon\\cdot\\text{RotMN2}^\\text{T}\\biggr)\\cdot\\text{RotMNz}^\\text{T},\n",
    "$$\n",
    "\n",
    "respectively. The material under consideration is defined via its indicatrix, that is the refractive index ellipsoid which is connected to the dielectric tensor $\\varepsilon$ via (neglecting absorption)\n",
    "$$\n",
    "\\varepsilon = \n",
    "\\begin{pmatrix}\n",
    "n_x^2 & 0 & 0\\\\\n",
    "0 & n_y^2 & 0\\\\\n",
    "0 & 0 & n_z^2\n",
    "\\end{pmatrix}.\n",
    "$$\n",
    "\n",
    "With this definition, the dielectric tensor is given in its local reference frame (the sample). By default, $\\varepsilon$ is defined so that $n_z$ is along the optical axis."
   ]
  },
  {
   "cell_type": "markdown",
   "id": "7e83ceb6",
   "metadata": {},
   "source": [
    "## Solving for $\\mathbf{k}$ and n\n",
    "\n",
    "With the above inputm, it is now possible to calculate the refraction indexex of all eigenstates of the ray inside the crystal"
   ]
  }
 ],
 "metadata": {
  "kernelspec": {
   "display_name": "Python 3 (ipykernel)",
   "language": "python",
   "name": "python3"
  },
  "language_info": {
   "codemirror_mode": {
    "name": "ipython",
    "version": 3
   },
   "file_extension": ".py",
   "mimetype": "text/x-python",
   "name": "python",
   "nbconvert_exporter": "python",
   "pygments_lexer": "ipython3",
   "version": "3.9.7"
  }
 },
 "nbformat": 4,
 "nbformat_minor": 5
}
