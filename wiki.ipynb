{
 "cells": [
  {
   "cell_type": "markdown",
   "id": "f9819d30",
   "metadata": {},
   "source": [
    "# How to Perform a Birefringence Simulation\n",
    "The material under consideration is being defined via its indicatrix, that is the refractive index ellipsoid which is connected to the dielectric tensor $\\varepsilon$ via"
   ]
  },
  {
   "cell_type": "code",
   "execution_count": null,
   "id": "fc4f3d5a",
   "metadata": {},
   "outputs": [],
   "source": []
  }
 ],
 "metadata": {
  "kernelspec": {
   "display_name": "Python 3 (ipykernel)",
   "language": "python",
   "name": "python3"
  },
  "language_info": {
   "codemirror_mode": {
    "name": "ipython",
    "version": 3
   },
   "file_extension": ".py",
   "mimetype": "text/x-python",
   "name": "python",
   "nbconvert_exporter": "python",
   "pygments_lexer": "ipython3",
   "version": "3.10.2"
  }
 },
 "nbformat": 4,
 "nbformat_minor": 5
}
